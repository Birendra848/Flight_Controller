{
  "nbformat": 4,
  "nbformat_minor": 0,
  "metadata": {
    "colab": {
      "name": "Class and objects.ipynb",
      "provenance": [],
      "mount_file_id": "1BaSGn6DO6YI8mRz3N0oWeKlr3i1CHWoh",
      "authorship_tag": "ABX9TyNAi+P6gW62Vt0kh0/hLDml"
    },
    "kernelspec": {
      "name": "python3",
      "display_name": "Python 3"
    }
  },
  "cells": [
    {
      "cell_type": "markdown",
      "metadata": {
        "id": "noGkREVyPpJJ"
      },
      "source": [
        "***OOP***\r\n",
        "class and object"
      ]
    },
    {
      "cell_type": "code",
      "metadata": {
        "id": "zd7F7qgQtTUC",
        "colab": {
          "base_uri": "https://localhost:8080/"
        },
        "outputId": "80bc0aaf-f6f4-4d2f-a297-f1b802456021"
      },
      "source": [
        "class Human:\r\n",
        "  def __init__(self,n,a,o):     #self mean class itself , init can be called as constructor\r\n",
        "    self.name=n\r\n",
        "    self.age= a\r\n",
        "    self.occupation=o\r\n",
        "\r\n",
        "  def do_work(self):\r\n",
        "    if self.occupation== \"guitarist\":\r\n",
        "      print(self.name,\"plays guitar and his age is\",self.age)\r\n",
        "    elif self.occupation==\"study\":\r\n",
        "      print(self.name,\"is a Student\")\r\n",
        "  \r\n",
        "  def speaks(self):\r\n",
        "    print(self.name,\"says have a good day\")\r\n",
        "\r\n",
        "ashish= Human(\"Ashish\",22,\"guitarist\")\r\n",
        "ashish.do_work()\r\n",
        "ashish.speaks()\r\n",
        "\r\n",
        "birendra=Human(\"Birendra\",22,\"study\")\r\n",
        "birendra.do_work()\r\n",
        "\r\n"
      ],
      "execution_count": 2,
      "outputs": [
        {
          "output_type": "stream",
          "text": [
            "Ashish plays guitar and his age is 22\n",
            "Ashish says have a good day\n",
            "Birendra is a Student\n"
          ],
          "name": "stdout"
        }
      ]
    },
    {
      "cell_type": "markdown",
      "metadata": {
        "id": "pxWjzb9MngTH"
      },
      "source": [
        "# Class varible\r\n",
        "\r\n",
        "*creating new object variable*"
      ]
    },
    {
      "cell_type": "code",
      "metadata": {
        "id": "_Z-M0_kSOtzY",
        "colab": {
          "base_uri": "https://localhost:8080/"
        },
        "outputId": "13858e14-d0d0-4be4-a4d7-69e1ae9fc123"
      },
      "source": [
        "class Circle:\r\n",
        "  pi=3.14                       #class variable\r\n",
        "                          \r\n",
        "  def __init__(self,radius):\r\n",
        "    self.radius=radius\r\n",
        "\r\n",
        "  def calc_circumference(self):     #instance Method\r\n",
        "    return 2*Circle.pi*self.radius\r\n",
        "\r\n",
        "c=Circle(4)\r\n",
        "c1=Circle(5)\r\n",
        "\r\n",
        "print(c.calc_circumference())\r\n",
        "\r\n",
        "print(Circle.__dict__)          # __dict__ prints the instance variable the class or object have\r\n",
        "print(c.__dict__)\r\n",
        "print(c1.__dict__)\r\n",
        "\r\n",
        "c.newvar= 'new_var' #creating a new variable in c object\r\n",
        "print(c.__dict__)\r\n"
      ],
      "execution_count": 14,
      "outputs": [
        {
          "output_type": "stream",
          "text": [
            "25.12\n",
            "{'__module__': '__main__', 'pi': 3.14, '__init__': <function Circle.__init__ at 0x7efeba18f268>, 'calc_circumference': <function Circle.calc_circumference at 0x7efeba18fea0>, '__dict__': <attribute '__dict__' of 'Circle' objects>, '__weakref__': <attribute '__weakref__' of 'Circle' objects>, '__doc__': None}\n",
            "{'radius': 4}\n",
            "{'radius': 5}\n",
            "{'radius': 4, 'newvar': 'new_var'}\n"
          ],
          "name": "stdout"
        }
      ]
    },
    {
      "cell_type": "markdown",
      "metadata": {
        "id": "QsQ5dZPVs4-h"
      },
      "source": [
        "# Exercise\r\n",
        "\r\n",
        "\r\n",
        "1.   create a class instance(variable)\r\n",
        "2.   count the no of instance in the class\r\n",
        "\r\n",
        "\r\n"
      ]
    },
    {
      "cell_type": "code",
      "metadata": {
        "colab": {
          "base_uri": "https://localhost:8080/"
        },
        "id": "SBg-AOGEs-8M",
        "outputId": "0b8eab7d-68ac-4e4f-bb2c-eb05241e2ce7"
      },
      "source": [
        "class Human:\r\n",
        "  count_instance=0\r\n",
        "\r\n",
        "  def __init__(self,n,a,o):         #self mean class itself , init is a constructor\r\n",
        "    Human.count_instance+=1\r\n",
        "    self.name=n\r\n",
        "    self.age= a\r\n",
        "    self.occupation=o\r\n",
        "\r\n",
        "h1= Human(\"birendra\",22,'student')      #1st instance\r\n",
        "print(f\"instance={Human.count_instance}\")\r\n",
        "\r\n",
        "h2= Human(\"birendra\",22,'student')      #2nd instance\r\n",
        "h3= Human(\"birendra\",22,'student')      #3rdt instance\r\n",
        "print(f\"instance_after={Human.count_instance}\")"
      ],
      "execution_count": 18,
      "outputs": [
        {
          "output_type": "stream",
          "text": [
            "instance=1\n",
            "instance_after=3\n"
          ],
          "name": "stdout"
        }
      ]
    },
    {
      "cell_type": "markdown",
      "metadata": {
        "id": "8dGI4dMgvC06"
      },
      "source": [
        "# Class Method\r\n",
        "it is not used very often</br>\r\n",
        "decorator"
      ]
    },
    {
      "cell_type": "code",
      "metadata": {
        "colab": {
          "base_uri": "https://localhost:8080/"
        },
        "id": "w7HXQQKZyKMv",
        "outputId": "476a01f6-8bab-4ec7-abd2-7805f130dabf"
      },
      "source": [
        "class Human:\r\n",
        "  count_instance=0\r\n",
        "\r\n",
        "  def __init__(self,n,a,o):         \r\n",
        "    Human.count_instance+=1\r\n",
        "    self.name=n\r\n",
        "    self.age= a\r\n",
        "    self.occupation=o\r\n",
        "\r\n",
        "  @classmethod          #Decorator\r\n",
        "  def count_instances(cls):\r\n",
        "    return f\"you have created {cls.count_instance} instances of {cls.__name__} class \"\r\n",
        "\r\n",
        "\r\n",
        "  def is_above18(self):\r\n",
        "    return self.age>18\r\n",
        "\r\n",
        "  def occupation(self):\r\n",
        "    return self.occupation\r\n",
        "\r\n",
        "h1= Human(\"Birendra\",22,'student')\r\n",
        "h2= Human(\"Ashish\",22,'Guitarist')\r\n",
        "\r\n",
        "print(Human.count_instances())\r\n",
        "\r\n",
        "\r\n",
        "\r\n",
        "\r\n"
      ],
      "execution_count": 25,
      "outputs": [
        {
          "output_type": "stream",
          "text": [
            "you have created 2 instances of Human class \n"
          ],
          "name": "stdout"
        }
      ]
    },
    {
      "cell_type": "markdown",
      "metadata": {
        "id": "gE_g-1at3DSa"
      },
      "source": [
        "# Class methos as a constructor\r\n",
        " "
      ]
    },
    {
      "cell_type": "code",
      "metadata": {
        "colab": {
          "base_uri": "https://localhost:8080/"
        },
        "id": "5dvShhxO3MRb",
        "outputId": "f196dd38-1c38-4b47-988d-fee77528bab8"
      },
      "source": [
        "class Human:\r\n",
        "  count_instance=0\r\n",
        "\r\n",
        "  def __init__(self,n,a,o):         \r\n",
        "    Human.count_instance+=1\r\n",
        "    self.name=n\r\n",
        "    self.age= a\r\n",
        "    self.occupation=o\r\n",
        "\r\n",
        "  @classmethod\r\n",
        "  def from_string(cls,string):             #Class method as constructor\r\n",
        "    name,age,occupation=string.split(',')  #split method\r\n",
        "    return cls(name,age,occupation)\r\n",
        "\r\n",
        "\r\n",
        "  @classmethod          #Decorator\r\n",
        "  def count_instances(cls):\r\n",
        "    return f\"you have created {cls.count_instance} instances of {cls.__name__} class \"\r\n",
        "\r\n",
        "\r\n",
        "  def is_above18(self):\r\n",
        "    return self.age>18\r\n",
        "\r\n",
        "  def occupation(self):\r\n",
        "    return self.occupation\r\n",
        "\r\n",
        "h1= Human(\"Birendra\",22,'student')\r\n",
        "h2= Human(\"Ashish\",22,'Guitarist')\r\n",
        "\r\n",
        "h3=Human.from_string(\"Sonal,22,finding_out\")\r\n",
        "\r\n",
        "print(h3.name,h3.occupation,h3.age)\r\n"
      ],
      "execution_count": 30,
      "outputs": [
        {
          "output_type": "stream",
          "text": [
            "Sonal finding_out 22\n"
          ],
          "name": "stdout"
        }
      ]
    },
    {
      "cell_type": "markdown",
      "metadata": {
        "id": "ih7F2W6W55kU"
      },
      "source": [
        "# OOP Static Method"
      ]
    },
    {
      "cell_type": "code",
      "metadata": {
        "colab": {
          "base_uri": "https://localhost:8080/"
        },
        "id": "8A1IxABQ5_GV",
        "outputId": "8c1ab284-7243-4212-da15-5e4cab053b0b"
      },
      "source": [
        "class Human:\r\n",
        "  count_instance=0\r\n",
        "\r\n",
        "  def __init__(self,n,a,o):         \r\n",
        "    Human.count_instance+=1\r\n",
        "    self.name=n\r\n",
        "    self.age= a\r\n",
        "    self.occupation=o\r\n",
        "\r\n",
        "  @classmethod\r\n",
        "  def from_string(cls,string):             #Class method as constructor\r\n",
        "    name,age,occupation=string.split(',')  #split method\r\n",
        "    return cls(name,age,occupation)\r\n",
        "\r\n",
        "\r\n",
        "  @classmethod          #Decorator\r\n",
        "  def count_instances(cls):\r\n",
        "    return f\"you have created {cls.count_instance} instances of {cls.__name__} class \"\r\n",
        "\r\n",
        "\r\n",
        "  @staticmethod         #static method\r\n",
        "  def hello():\r\n",
        "    print(\"Hello, this is static method\")\r\n",
        "\r\n",
        "\r\n",
        "  def is_above18(self):\r\n",
        "    return self.age>18\r\n",
        "\r\n",
        "  def occupation(self):\r\n",
        "    return self.occupation\r\n",
        "\r\n",
        "h1= Human(\"Birendra\",22,'student')\r\n",
        "h2= Human(\"Ashish\",22,'Guitarist')\r\n",
        "\r\n",
        "h3=Human.from_string(\"Sonal,22,finding_out\")\r\n",
        "\r\n",
        "print(h3.name,h3.occupation,h3.age)\r\n",
        "\r\n",
        "Human.hello()"
      ],
      "execution_count": 31,
      "outputs": [
        {
          "output_type": "stream",
          "text": [
            "Sonal finding_out 22\n",
            "Hello, this is static method\n"
          ],
          "name": "stdout"
        }
      ]
    }
  ]
}